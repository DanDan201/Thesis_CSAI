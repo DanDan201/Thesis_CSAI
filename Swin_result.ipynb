{
  "cells": [
    {
      "cell_type": "markdown",
      "source": [
        "Import google drive on colab (Skip this cell if you download the model locally)"
      ],
      "metadata": {
        "id": "yI0V2AgtDZaK"
      }
    },
    {
      "cell_type": "code",
      "execution_count": null,
      "metadata": {
        "id": "vgPahZsuzhm1",
        "colab": {
          "base_uri": "https://localhost:8080/"
        },
        "outputId": "6ceb9291-fa76-41db-d202-2eb8526ce3a1"
      },
      "outputs": [
        {
          "output_type": "stream",
          "name": "stdout",
          "text": [
            "Drive already mounted at /content/drive; to attempt to forcibly remount, call drive.mount(\"/content/drive\", force_remount=True).\n"
          ]
        }
      ],
      "source": [
        "from google.colab import drive\n",
        "drive.mount('/content/drive')"
      ]
    },
    {
      "cell_type": "markdown",
      "source": [
        "Import libraries"
      ],
      "metadata": {
        "id": "iel1GbwkDlI5"
      }
    },
    {
      "cell_type": "code",
      "execution_count": null,
      "metadata": {
        "id": "Q8x5g_PY0Kml"
      },
      "outputs": [],
      "source": [
        "import torch\n",
        "import torch.nn as nn\n",
        "import torchvision.transforms as transforms\n",
        "from torch.utils.data import DataLoader, random_split\n",
        "from torchvision.models import swin_s, Swin_S_Weights\n",
        "from torchvision.datasets import ImageFolder\n",
        "import numpy as np\n",
        "import matplotlib.pyplot as plt\n",
        "import os\n",
        "from sklearn.metrics import confusion_matrix, classification_report\n",
        "import seaborn as sns"
      ]
    },
    {
      "cell_type": "markdown",
      "source": [
        "Check device (cpu is recommended for this notebook)"
      ],
      "metadata": {
        "id": "fn4zozB47zw7"
      }
    },
    {
      "cell_type": "code",
      "execution_count": null,
      "metadata": {
        "id": "ERn8Fe6x28rg"
      },
      "outputs": [],
      "source": [
        "device = torch.device('cuda' if torch.cuda.is_available() else 'cpu')"
      ]
    },
    {
      "cell_type": "markdown",
      "source": [
        "Define model architecture (same as the training script). Load model weights from the saved .pth file from the training script. Make sure to upload the file to Google Drive before loading."
      ],
      "metadata": {
        "id": "06DbW8rX7_zz"
      }
    },
    {
      "cell_type": "code",
      "execution_count": null,
      "metadata": {
        "id": "ylUvIQTh3G8-",
        "colab": {
          "base_uri": "https://localhost:8080/"
        },
        "outputId": "e742c756-7167-4d0d-c17e-b57a2082ec20"
      },
      "outputs": [
        {
          "output_type": "execute_result",
          "data": {
            "text/plain": [
              "<All keys matched successfully>"
            ]
          },
          "metadata": {},
          "execution_count": 10
        }
      ],
      "source": [
        "pretrained_swin = swin_s()\n",
        "pretrained_swin_weights = Swin_S_Weights.DEFAULT\n",
        "pretrained_swin.head = nn.Sequential(\n",
        "    nn.Linear(pretrained_swin.head.in_features, 128),\n",
        "    nn.ReLU(),\n",
        "    nn.Dropout(0.25),\n",
        "    nn.Linear(128,4),\n",
        "    nn.Softmax(-1)\n",
        ")\n",
        "\n",
        "# Change model_path to the location of the swin_frozenbody_final.pth file\n",
        "model_path = 'drive/MyDrive/swin_frozenbody_final.pth'\n",
        "checkpoint = torch.load(model_path,map_location = torch.device('cpu'))\n",
        "\n",
        "pretrained_swin.load_state_dict(checkpoint)\n"
      ]
    },
    {
      "cell_type": "markdown",
      "source": [
        "Set the test data directory and create test loader."
      ],
      "metadata": {
        "id": "Jej4xfvE7xWe"
      }
    },
    {
      "cell_type": "code",
      "execution_count": null,
      "metadata": {
        "id": "b0rYSlOf3NTo"
      },
      "outputs": [],
      "source": [
        "batch_size = 64\n",
        "\n",
        "# Change test_dir to the Testing folder path\n",
        "test_dir = 'drive/MyDrive/Dataset/archive/Testing'\n",
        "test_data = ImageFolder(root = test_dir, transform = pretrained_swin_weights.transforms())\n",
        "test_loader = DataLoader(test_data, batch_size = batch_size, shuffle = False)"
      ]
    },
    {
      "cell_type": "markdown",
      "source": [
        "Save the prediction for evaluation"
      ],
      "metadata": {
        "id": "gPbFWqvz8026"
      }
    },
    {
      "cell_type": "code",
      "execution_count": null,
      "metadata": {
        "id": "hcwB-wq507oz"
      },
      "outputs": [],
      "source": [
        "pretrained_swin.eval()\n",
        "\n",
        "correct = 0\n",
        "total = 0\n",
        "y_true = []\n",
        "y_pred = []\n",
        "\n",
        "with torch.no_grad():\n",
        "    for images, labels in test_loader:\n",
        "        outputs = pretrained_swin(images)\n",
        "        _, predicted = torch.max(outputs, 1)\n",
        "        total += labels.size(0)\n",
        "        correct += (predicted == labels).sum().item()\n",
        "        y_true.extend(labels.numpy())\n",
        "        y_pred.extend(predicted.numpy())\n",
        "\n",
        "test_accuracy = correct / total\n",
        "\n"
      ]
    },
    {
      "cell_type": "code",
      "source": [
        "print(f\"Test Accuracy: {test_accuracy}\")"
      ],
      "metadata": {
        "id": "TUrO9q4u9fYT",
        "outputId": "88ffa351-84aa-4417-aab3-c2566de740db",
        "colab": {
          "base_uri": "https://localhost:8080/"
        }
      },
      "execution_count": null,
      "outputs": [
        {
          "output_type": "stream",
          "name": "stdout",
          "text": [
            "Test Accuracy: 0.9740655987795576\n"
          ]
        }
      ]
    },
    {
      "cell_type": "markdown",
      "source": [
        "Create confusion matrix and calculate accuracy, f1-score, precision, recall."
      ],
      "metadata": {
        "id": "ZASH73lH88Q3"
      }
    },
    {
      "cell_type": "code",
      "source": [
        "true_label = []\n",
        "pred_label = []\n",
        "for i in y_true:\n",
        "    true_label.append(i)\n",
        "\n",
        "for i in y_pred:\n",
        "    pred_label.append(i)\n",
        "\n",
        "true_label = np.array(true_label)\n",
        "pred_label = np.array(pred_label)\n",
        "# Generate confusion matrix\n",
        "conf_matrix = confusion_matrix(true_label, pred_label)\n",
        "\n",
        "# Plot confusion matrix\n",
        "labels = ['glioma', 'meningioma', 'notumor', 'pituitary']\n",
        "\n",
        "plt.figure(figsize=(8, 6))\n",
        "sns.heatmap(conf_matrix, annot=True, cmap='Blues', fmt='g', xticklabels=labels, yticklabels=labels)\n",
        "plt.xlabel('Predicted Label')\n",
        "plt.ylabel('True Label')\n",
        "plt.title('Confusion Matrix')\n",
        "plt.show()\n"
      ],
      "metadata": {
        "colab": {
          "base_uri": "https://localhost:8080/",
          "height": 564
        },
        "id": "JJLmABz-T_qg",
        "outputId": "f5485d61-479c-4f71-c7ee-3d48c89de1a2"
      },
      "execution_count": null,
      "outputs": [
        {
          "output_type": "display_data",
          "data": {
            "text/plain": [
              "<Figure size 800x600 with 2 Axes>"
            ],
            "image/png": "[encoded data removed]"
          },
          "metadata": {}
        }
      ]
    },
    {
      "cell_type": "code",
      "source": [
        "print(classification_report(true_label, pred_label))"
      ],
      "metadata": {
        "id": "D_NAVzetaNu9",
        "colab": {
          "base_uri": "https://localhost:8080/"
        },
        "outputId": "4c116a65-f06d-4094-86df-c77bcaed0b36"
      },
      "execution_count": null,
      "outputs": [
        {
          "output_type": "stream",
          "name": "stdout",
          "text": [
            "              precision    recall  f1-score   support\n",
            "\n",
            "           0       0.99      0.92      0.96       300\n",
            "           1       0.92      0.98      0.95       306\n",
            "           2       1.00      1.00      1.00       405\n",
            "           3       0.98      0.99      0.99       300\n",
            "\n",
            "    accuracy                           0.97      1311\n",
            "   macro avg       0.97      0.97      0.97      1311\n",
            "weighted avg       0.98      0.97      0.97      1311\n",
            "\n"
          ]
        }
      ]
    }
  ],
  "metadata": {
    "colab": {
      "provenance": []
    },
    "kernelspec": {
      "display_name": "Python 3",
      "name": "python3"
    },
    "language_info": {
      "name": "python"
    }
  },
  "nbformat": 4,
  "nbformat_minor": 0
}